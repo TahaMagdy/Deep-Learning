{
 "cells": [
  {
   "cell_type": "code",
   "execution_count": 1,
   "metadata": {},
   "outputs": [
    {
     "name": "stderr",
     "output_type": "stream",
     "text": [
      "/usr/local/lib/python3.6/site-packages/h5py/__init__.py:36: FutureWarning: Conversion of the second argument of issubdtype from `float` to `np.floating` is deprecated. In future, it will be treated as `np.float64 == np.dtype(float).type`.\n",
      "  from ._conv import register_converters as _register_converters\n",
      "Using TensorFlow backend.\n"
     ]
    }
   ],
   "source": [
    "import numpy as np\n",
    "import idx2numpy\n",
    "import matplotlib.pyplot as plt\n",
    "from keras.models import Sequential\n",
    "import keras.layers as layers\n",
    "import keras\n",
    "import keras.backend as K\n",
    "from keras.callbacks import  TensorBoard\n",
    "from numpy.random import seed\n",
    "import tensorflow as tf\n",
    "tf.set_random_seed(2)\n",
    "seed(1)"
   ]
  },
  {
   "cell_type": "code",
   "execution_count": 2,
   "metadata": {},
   "outputs": [
    {
     "name": "stdout",
     "output_type": "stream",
     "text": [
      "(60000, 28, 28)\n",
      "(60000,)\n",
      "(10000, 28, 28)\n",
      "(10000,)\n",
      "{0, 1, 2, 3, 4, 5, 6, 7, 8, 9}\n"
     ]
    }
   ],
   "source": [
    "'''\n",
    "    * Loading the MNIST from disk.\n",
    "'''\n",
    "DATA_DIR = 'MNIST/'\n",
    "\n",
    "trainImages = idx2numpy.convert_from_file(DATA_DIR + 'train-images-idx3-ubyte')\n",
    "trainLabels = idx2numpy.convert_from_file(DATA_DIR + 'train-labels-idx1-ubyte')\n",
    "testImages = idx2numpy.convert_from_file (DATA_DIR + 't10k-images-idx3-ubyte')\n",
    "testLabels = idx2numpy.convert_from_file (DATA_DIR + 't10k-labels-idx1-ubyte')\n",
    "\n",
    "# Dimensions\n",
    "print(trainImages.shape)\n",
    "print(trainLabels.shape)\n",
    "print(testImages.shape)\n",
    "print(testLabels.shape)\n",
    "\n",
    "# Lables\n",
    "print(set(testLabels))"
   ]
  },
  {
   "cell_type": "code",
   "execution_count": 3,
   "metadata": {},
   "outputs": [
    {
     "data": {
      "image/png": "[encoded data removed]",
      "text/plain": [
       "<Figure size 1080x1080 with 19 Axes>"
      ]
     },
     "metadata": {},
     "output_type": "display_data"
    },
    {
     "data": {
      "text/plain": [
       "<matplotlib.image.AxesImage at 0x1192ec860>"
      ]
     },
     "execution_count": 3,
     "metadata": {},
     "output_type": "execute_result"
    },
    {
     "data": {
      "image/png": "[encoded data removed]",
      "text/plain": [
       "<Figure size 288x288 with 1 Axes>"
      ]
     },
     "metadata": {},
     "output_type": "display_data"
    },
    {
     "data": {
      "image/png": "[encoded data removed]",
      "text/plain": [
       "<Figure size 288x288 with 1 Axes>"
      ]
     },
     "metadata": {},
     "output_type": "display_data"
    }
   ],
   "source": [
    "'''\n",
    "    * Visualizing the dataset\n",
    "'''\n",
    "NUMBER_OF_PICTURES = 20\n",
    "fig = plt.figure(figsize=(15, 15))\n",
    "for i in range(1, NUMBER_OF_PICTURES):\n",
    "    cell = fig.add_subplot(1, NUMBER_OF_PICTURES, i)\n",
    "    cell.axis('off')\n",
    "    cell.add_image(plt.imshow(trainImages[i*10], cmap='Greys'))\n",
    "plt.show()\n",
    "\n",
    "plt.matshow(trainImages[0], cmap='Greys')\n",
    "plt.matshow(trainImages[1], cmap='Greys')"
   ]
  },
  {
   "cell_type": "code",
   "execution_count": 4,
   "metadata": {},
   "outputs": [
    {
     "name": "stdout",
     "output_type": "stream",
     "text": [
      "(60000, 28, 28, 1)\n",
      "(60000, 10)\n"
     ]
    }
   ],
   "source": [
    "'''\n",
    "    * Reshaping data to match the conv2d layer.\n",
    "'''\n",
    "train_x = trainImages.reshape(len(trainImages), 28, 28, 1)\n",
    "train_y_onehot = keras.utils.to_categorical(trainLabels, num_classes=10)\n",
    "test_x = testImages.reshape(len(testImages), 28, 28, 1)\n",
    "test_y_onehot = keras.utils.to_categorical(testLabels, num_classes=10)\n",
    "\n",
    "\n",
    "''' a tiny dataset to test the model correctness '''\n",
    "#small_data = small_data.reshape(len(small), 28, 28, 1)\n",
    "#small_labels_one_hot = keras.utils.to_categorical(trainLabels[0:12], num_classes=10)\n",
    "#model.fit(small_data, small_labels_one_hot, epochs=12)\n",
    "\n",
    "print(train_x.shape)\n",
    "print(train_y_onehot.shape)"
   ]
  },
  {
   "cell_type": "code",
   "execution_count": 5,
   "metadata": {},
   "outputs": [],
   "source": [
    "'''\n",
    "    Send train_x and train_y\n",
    "    * Building and Fitting the model.\n",
    "'''\n",
    "# passing the layers in a list instead of the bloody .add() \n",
    "\n",
    "arch_1 = [layers.Conv2D(filters=20, # Numbers of kernals/Filters\n",
    "            kernel_size=(3,3), # Filter size\n",
    "            activation='relu',\n",
    "            padding='same', \n",
    "            input_shape=(28, 28, 1)), # Dimensions of one data point (row * hieght * channels)\n",
    "          layers.MaxPooling2D(pool_size=(10, 10), padding='valid'),\n",
    "          layers.Conv2D(filters=10, \n",
    "                kernel_size=(3,3), \n",
    "                activation='relu',\n",
    "                padding='same'), \n",
    "          layers.MaxPooling2D(pool_size=(2, 2), padding='valid'),\n",
    "          layers.Flatten(), # Flatting the last output as [K * 1 Vector]\n",
    "          layers.Dense(units=10, activation='softmax') # Fully Connected Layer of 10 units (10 weights and biases)\n",
    "         ]"
   ]
  },
  {
   "cell_type": "code",
   "execution_count": 6,
   "metadata": {},
   "outputs": [
    {
     "name": "stdout",
     "output_type": "stream",
     "text": [
      "_________________________________________________________________\n",
      "Layer (type)                 Output Shape              Param #   \n",
      "=================================================================\n",
      "conv2d_1 (Conv2D)            (None, 28, 28, 20)        200       \n",
      "_________________________________________________________________\n",
      "max_pooling2d_1 (MaxPooling2 (None, 2, 2, 20)          0         \n",
      "_________________________________________________________________\n",
      "conv2d_2 (Conv2D)            (None, 2, 2, 10)          1810      \n",
      "_________________________________________________________________\n",
      "max_pooling2d_2 (MaxPooling2 (None, 1, 1, 10)          0         \n",
      "_________________________________________________________________\n",
      "flatten_1 (Flatten)          (None, 10)                0         \n",
      "_________________________________________________________________\n",
      "dense_1 (Dense)              (None, 10)                110       \n",
      "=================================================================\n",
      "Total params: 2,120\n",
      "Trainable params: 2,120\n",
      "Non-trainable params: 0\n",
      "_________________________________________________________________\n"
     ]
    }
   ],
   "source": [
    "model = Sequential(arch_1)\n",
    "model.compile(loss='categorical_crossentropy', optimizer='adam', metrics=['accuracy'])\n",
    "model.summary()\n",
    "#model.fit(train_x, train_y_onehot, epochs=1, validation_split=2.0, batch_size=1024)"
   ]
  },
  {
   "cell_type": "code",
   "execution_count": 7,
   "metadata": {},
   "outputs": [
    {
     "name": "stdout",
     "output_type": "stream",
     "text": [
      "_________________________________________________________________\n",
      "Layer (type)                 Output Shape              Param #   \n",
      "=================================================================\n",
      "conv2d_1 (Conv2D)            (None, 28, 28, 20)        200       \n",
      "_________________________________________________________________\n",
      "max_pooling2d_1 (MaxPooling2 (None, 2, 2, 20)          0         \n",
      "_________________________________________________________________\n",
      "conv2d_2 (Conv2D)            (None, 2, 2, 10)          1810      \n",
      "_________________________________________________________________\n",
      "max_pooling2d_2 (MaxPooling2 (None, 1, 1, 10)          0         \n",
      "_________________________________________________________________\n",
      "flatten_1 (Flatten)          (None, 10)                0         \n",
      "_________________________________________________________________\n",
      "dense_1 (Dense)              (None, 10)                110       \n",
      "=================================================================\n",
      "Total params: 2,120\n",
      "Trainable params: 2,120\n",
      "Non-trainable params: 0\n",
      "_________________________________________________________________\n"
     ]
    }
   ],
   "source": [
    "'''\n",
    "    * fit_generator: using Sequence class.\n",
    "'''\n",
    "\n",
    "class BatchGenerator(keras.utils.Sequence):\n",
    "    \n",
    "    def __init__(self, batch_size,\n",
    "                 train_x, \n",
    "                 train_y_onehot):\n",
    "        self.train_x = train_x\n",
    "        self.train_y_onehot = train_y_onehot\n",
    "        self.batch_size = batch_size\n",
    "    \n",
    "    def __len__(self):\n",
    "        return int(np.ceil(len(self.train_x) / float(self.batch_size)))\n",
    "\n",
    "    def __getitem__(self, idx):\n",
    "        batch_x = self.train_x[idx * self.batch_size : (idx + 1) * self.batch_size]\n",
    "        batch_y = self.train_y_onehot[idx * self.batch_size : (idx + 1) * self.batch_size]\n",
    "        return batch_x, batch_y\n",
    "\n",
    "\n",
    "model_2 = Sequential(arch_1)\n",
    "train_sequence = BatchGenerator(1024, train_x, train_y_onehot)\n",
    "model_2.compile(loss='categorical_crossentropy', optimizer='adam', metrics=['accuracy'])\n",
    "model_2.summary()\n",
    "#model_2.fit_generator(generator=train_sequence, epochs = 1, verbose=1)"
   ]
  },
  {
   "cell_type": "code",
   "execution_count": 8,
   "metadata": {},
   "outputs": [
    {
     "name": "stdout",
     "output_type": "stream",
     "text": [
      "_________________________________________________________________\n",
      "Layer (type)                 Output Shape              Param #   \n",
      "=================================================================\n",
      "conv2d_1 (Conv2D)            (None, 28, 28, 20)        200       \n",
      "_________________________________________________________________\n",
      "max_pooling2d_1 (MaxPooling2 (None, 2, 2, 20)          0         \n",
      "_________________________________________________________________\n",
      "conv2d_2 (Conv2D)            (None, 2, 2, 10)          1810      \n",
      "_________________________________________________________________\n",
      "max_pooling2d_2 (MaxPooling2 (None, 1, 1, 10)          0         \n",
      "_________________________________________________________________\n",
      "flatten_1 (Flatten)          (None, 10)                0         \n",
      "_________________________________________________________________\n",
      "dense_1 (Dense)              (None, 10)                110       \n",
      "=================================================================\n",
      "Total params: 2,120\n",
      "Trainable params: 2,120\n",
      "Non-trainable params: 0\n",
      "_________________________________________________________________\n",
      "Epoch 1/1\n",
      "60000/60000 [==============================] - 19s 314us/step - loss: 2.6737 - acc: 0.6726\n"
     ]
    },
    {
     "data": {
      "text/plain": [
       "<keras.callbacks.History at 0x119690fd0>"
      ]
     },
     "execution_count": 8,
     "metadata": {},
     "output_type": "execute_result"
    }
   ],
   "source": [
    "'''\n",
    "    * 2 customized loss function\n",
    "    * Cross Entropy takes lables and softmax vector.\n",
    "'''\n",
    "y_lables = np.array([1, 0,  1,   1,   1])\n",
    "y_hat    = np.array([1, 0, 0.9, 0.5, 0.1])\n",
    "\n",
    "model_3 = Sequential(arch_1)\n",
    "# the cost function \n",
    "def cross_entropy_total_cost(y_lables, y_hat):\n",
    "#clipped_log_1 = tf.clip_by_value(tf.log(y_hat), clip_value_max=1e+10, clip_value_min=-1e+10)\n",
    "#clipped_log_0 = tf.clip_by_value(tf.log(1 - y_hat), clip_value_max=1e+10, clip_value_min=-1e+10)\n",
    "#return - tf.reduce_mean(tf.reduce_sum(y_lables * clipped_log_1 + (1-y_lables) * clipped_log_0))\n",
    "\n",
    "#clipped_log_1 = K.clip(K.log(y_hat),     min_value=-1e+10, max_value=1e+10)\n",
    "#clipped_log_0 = K.clip(K.log(1 - y_hat), min_value=-1e+10, max_value=1e+10)\n",
    "#losses = -y_lables * clipped_log_1 + (1-y_lables) * clipped_log_0\n",
    "#cross = K.mean(K.sum(losses))\n",
    "#return cross\n",
    "\n",
    "#    return - K.mean(K.sum(y_lables* tf.log(y_hat), axis=1))\n",
    "\n",
    "#    clipped_log = tf.clip_by_value(tf.log(y_hat), clip_value_min=-1e+10, clip_value_max=1e+10)\n",
    "#    return -tf.reduce_mean(tf.reduce_sum(y_lables * clipped_log, reduction_indices=1))\n",
    "\n",
    "#    clipped_log = tf.clip_by_value(tf.log(y_hat), clip_value_min=-1e+10, clip_value_max=1e+10)\n",
    "#    return -tf.reduce_mean(tf.reduce_sum(y_lables * clipped_log, reduction_indices=1))\n",
    "\n",
    "#     return -tf.reduce_mean(tf.reduce_sum(y_lables * tf.log(y_hat), reduction_indices=1))\n",
    "#+1e-9\n",
    "    clipped_logit = tf.clip_by_value(tf.log(y_hat+1e-9), clip_value_min=-1e+10, clip_value_max=1e+10)\n",
    "    return -tf.reduce_mean(tf.reduce_sum(y_lables * clipped_logit, reduction_indices=1))\n",
    "\n",
    "#'categorical_crossentropy'\n",
    "model_3.compile(loss=cross_entropy_total_cost, optimizer='adam', metrics=['accuracy'])\n",
    "model_3.summary()\n",
    "model_3.fit(train_x, train_y_onehot, epochs=1, validation_split=2.0)"
   ]
  },
  {
   "cell_type": "code",
   "execution_count": 9,
   "metadata": {},
   "outputs": [
    {
     "data": {
      "text/plain": [
       "0.22839300363692283"
      ]
     },
     "execution_count": 9,
     "metadata": {},
     "output_type": "execute_result"
    }
   ],
   "source": [
    "logits = np.array([\n",
    "    [0.9, 0.1],\n",
    "    [0.8, 0.2],\n",
    "    [0.4, 0.7]\n",
    "])\n",
    "\n",
    "labels = np.array([\n",
    "    [1, 0],\n",
    "    [1, 0],\n",
    "    [0, 1]\n",
    "])\n",
    "\n",
    "- np.mean(np.sum(labels * np.log(logits), axis=1))"
   ]
  },
  {
   "cell_type": "code",
   "execution_count": null,
   "metadata": {},
   "outputs": [],
   "source": [
    "'''NumPy Version'''\n",
    "def cross_entropy(predictions, targets, epsilon=1e-12):\n",
    "    \"\"\"\n",
    "    Computes cross entropy between targets (encoded as one-hot vectors)\n",
    "    and predictions. \n",
    "    Input: predictions (N, k) ndarray\n",
    "           targets (N, k) ndarray        \n",
    "    Returns: scalar\n",
    "    \"\"\"\n",
    "    predictions = np.clip(predictions, epsilon, 1. - epsilon)\n",
    "    N = predictions.shape[0]\n",
    "    ce = -np.sum(targets*np.log(predictions+1e-9))/N\n",
    "    return ce\n",
    "\n",
    "# two observations\n",
    "predictions = np.array([[0.25,0.25,0.25,0.25],\n",
    "                        [0.01,0.01,0.01,0.96]])\n",
    "# two lables\n",
    "targets = np.array([[0,0,0,1],\n",
    "                   [0,0,0,1]])\n",
    "cross_entropy(logits, labels)"
   ]
  },
  {
   "cell_type": "code",
   "execution_count": null,
   "metadata": {},
   "outputs": [],
   "source": [
    "'''TensorFlow Version'''\n",
    "logits = np.array([\n",
    "    [1.0, 0.0],\n",
    "    [0.8, 0.2],\n",
    "    [0.4, 0.7]\n",
    "])\n",
    "\n",
    "labels = np.array([\n",
    "    [1, 0],\n",
    "    [1, 0],\n",
    "    [0, 1]\n",
    "])\n",
    "\n",
    "logits_tensor = tf.Variable(logits, dtype=tf.float32)\n",
    "labels_tensor = tf.Variable(labels, dtype=tf.float32)\n",
    "\n",
    "# np.mean(np.sum(labels * np.log(logits), axis=1))\n",
    "init = tf.global_variables_initializer()\n",
    "with tf.Session() as sess:\n",
    "    sess.run(init)\n",
    "    clipped_logit = sess.run(tf.clip_by_value(tf.log(logits+1e-9), clip_value_min=-1e+10, clip_value_max=1e+10))\n",
    "    loss = sess.run(-tf.reduce_mean(tf.reduce_sum(labels_tensor * clipped_logit, reduction_indices=1)))\n",
    "    print(loss)"
   ]
  },
  {
   "cell_type": "code",
   "execution_count": null,
   "metadata": {},
   "outputs": [],
   "source": [
    "# تهبيد\n",
    "y_hat_value    = np.array([1,  0,  0.9,  0.5,  0.1])\n",
    "y_lables_value = np.array([1,  0,    1,    1,    1])\n",
    "y_labels_value_categories = keras.utils.to_categorical(y_lables_value)\n",
    "y_lables_argmax = K.argmax(y_labels_value_categories)\n",
    "\n",
    "#y_lables = tf.placeholder(dtype=tf.float32, shape=(5, None))\n",
    "#y_hat = tf.placeholder(dtype=tf.float32, shape=(5, None))\n",
    "\n",
    "y_lables = tf.Variable(y_lables_value, dtype=tf.float32)\n",
    "y_hat = tf.Variable(y_hat_value, dtype=tf.float32)\n",
    "\n",
    "clipped_log_1 = K.clip(K.log(y_hat),     min_value=-1e+10, max_value=1e+10)\n",
    "clipped_log_0 = K.clip(K.log(1 - y_hat), min_value=-1e+10, max_value=1e+10)\n",
    "losses = -y_lables * clipped_log_1 + (1-y_lables) * clipped_log_0\n",
    "cross = K.mean(K.sum(losses))\n",
    "\n",
    "init = tf.global_variables_initializer()\n",
    "with tf.Session() as sess:\n",
    "    sess.run(init) ###\n",
    "    out1 = sess.run(losses)\n",
    "    out2 = sess.run(cross)\n",
    "    out3 = keras.utils.to_categorical(y_lables_value)\n",
    "    out4 = sess.run(K.argmax(y_labels_value_categories) )\n",
    "    print(out1)\n",
    "    print(out2)\n",
    "    print(out3)\n",
    "    print(out4)"
   ]
  },
  {
   "cell_type": "code",
   "execution_count": null,
   "metadata": {},
   "outputs": [],
   "source": [
    "# تهبيد\n",
    "labels * np.log(logits) + (labels - 1) * np.log(1-logits)"
   ]
  },
  {
   "cell_type": "code",
   "execution_count": null,
   "metadata": {},
   "outputs": [],
   "source": [
    "'''\n",
    "    * LeNet\n",
    "'''"
   ]
  },
  {
   "cell_type": "code",
   "execution_count": null,
   "metadata": {},
   "outputs": [],
   "source": [
    "'''\n",
    "    * ResNet\n",
    "'''"
   ]
  }
 ],
 "metadata": {
  "kernelspec": {
   "display_name": "Python 3",
   "language": "python",
   "name": "python3"
  },
  "language_info": {
   "codemirror_mode": {
    "name": "ipython",
    "version": 3
   },
   "file_extension": ".py",
   "mimetype": "text/x-python",
   "name": "python",
   "nbconvert_exporter": "python",
   "pygments_lexer": "ipython3",
   "version": "3.6.5"
  }
 },
 "nbformat": 4,
 "nbformat_minor": 2
}
